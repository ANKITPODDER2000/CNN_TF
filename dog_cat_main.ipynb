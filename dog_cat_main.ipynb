{
  "nbformat": 4,
  "nbformat_minor": 0,
  "metadata": {
    "colab": {
      "name": "dog_cat_main.ipynb",
      "provenance": [],
      "private_outputs": true,
      "collapsed_sections": [],
      "mount_file_id": "1Qor78VrGHKCLnO2v5omOsDEmqzzLwbNa",
      "authorship_tag": "ABX9TyM/K3IWUAgkmiNCBDg95ktX",
      "include_colab_link": true
    },
    "kernelspec": {
      "name": "python3",
      "display_name": "Python 3"
    },
    "accelerator": "GPU"
  },
  "cells": [
    {
      "cell_type": "markdown",
      "metadata": {
        "id": "view-in-github",
        "colab_type": "text"
      },
      "source": [
        "<a href=\"https://colab.research.google.com/github/ANKITPODDER2000/CNN_TF/blob/master/dog_cat_main.ipynb\" target=\"_parent\"><img src=\"https://colab.research.google.com/assets/colab-badge.svg\" alt=\"Open In Colab\"/></a>"
      ]
    },
    {
      "cell_type": "code",
      "metadata": {
        "id": "Taurcz8_dPxC",
        "colab_type": "code",
        "colab": {}
      },
      "source": [
        "import tensorflow as tf\n",
        "from tensorflow.keras import layers,models\n",
        "from tensorflow.keras.applications.inception_v3 import InceptionV3\n",
        "import matplotlib.pyplot as plt\n",
        "%matplotlib inline\n",
        "import os\n",
        "import cv2\n",
        "import shutil"
      ],
      "execution_count": null,
      "outputs": []
    },
    {
      "cell_type": "code",
      "metadata": {
        "id": "QeagOMfsdk3j",
        "colab_type": "code",
        "colab": {}
      },
      "source": [
        "train_dir = \"/content/drive/My Drive/CNN/Dog&Cat/data/dataset/training_set\"\n",
        "test_dir  = \"/content/drive/My Drive/CNN/Dog&Cat/data/dataset/test_set\""
      ],
      "execution_count": null,
      "outputs": []
    },
    {
      "cell_type": "code",
      "metadata": {
        "id": "PJUz8tQddmxe",
        "colab_type": "code",
        "colab": {}
      },
      "source": [
        "train_datagen = tf.keras.preprocessing.image.ImageDataGenerator(rescale=(1.0 / 255.0),\n",
        "                                                                width_shift_range=0.2,\n",
        "                                                                height_shift_range=0.2,\n",
        "                                                                zoom_range=0.2,\n",
        "                                                                shear_range=0.2,\n",
        "                                                                fill_mode=\"nearest\",\n",
        "                                                                horizontal_flip=True)\n",
        "test_datagen = tf.keras.preprocessing.image.ImageDataGenerator(rescale=(1.0 / 255.0))"
      ],
      "execution_count": null,
      "outputs": []
    },
    {
      "cell_type": "code",
      "metadata": {
        "id": "8lNlMdSKdnkV",
        "colab_type": "code",
        "colab": {}
      },
      "source": [
        "from google.colab import files\n",
        "files.upload()"
      ],
      "execution_count": null,
      "outputs": []
    },
    {
      "cell_type": "code",
      "metadata": {
        "id": "IwkO6_Jaero7",
        "colab_type": "code",
        "colab": {}
      },
      "source": [
        "from google.colab import files"
      ],
      "execution_count": null,
      "outputs": []
    },
    {
      "cell_type": "code",
      "metadata": {
        "id": "PX8isIQQpjDT",
        "colab_type": "code",
        "colab": {}
      },
      "source": [
        "shutil.copyfile(\"/content/inception_v3_weights_tf_dim_ordering_tf_kernels_notop.h5\",\"/content/drive/My Drive/CNN/inception.h5\")"
      ],
      "execution_count": null,
      "outputs": []
    },
    {
      "cell_type": "code",
      "metadata": {
        "id": "g0sRCuQZdmwu",
        "colab_type": "code",
        "colab": {}
      },
      "source": [
        "pretrained_model = InceptionV3(\n",
        "    input_shape=(150,150,3),\n",
        "    include_top = False,\n",
        "    weights = None\n",
        ")"
      ],
      "execution_count": null,
      "outputs": []
    },
    {
      "cell_type": "code",
      "metadata": {
        "id": "S40iPF_4dk2v",
        "colab_type": "code",
        "colab": {}
      },
      "source": [
        "weight_file = \"/content/drive/My Drive/CNN/inception_v3_weights_tf_dim_ordering_tf_kernels_notop.h5\"\n",
        "pretrained_model.load_weights(weight_file)"
      ],
      "execution_count": null,
      "outputs": []
    },
    {
      "cell_type": "code",
      "metadata": {
        "id": "m6FROGZ57pST",
        "colab_type": "code",
        "colab": {}
      },
      "source": [
        "for layer in pretrained_model.layers:\n",
        "  layer.trainable = False"
      ],
      "execution_count": null,
      "outputs": []
    },
    {
      "cell_type": "code",
      "metadata": {
        "id": "Aq-msEMZ8qTQ",
        "colab_type": "code",
        "colab": {}
      },
      "source": [
        "#pretrained_model.summary()"
      ],
      "execution_count": null,
      "outputs": []
    },
    {
      "cell_type": "code",
      "metadata": {
        "id": "6NAVxikD8x40",
        "colab_type": "code",
        "colab": {}
      },
      "source": [
        "output_layer = pretrained_model.get_layer('mixed7')\n",
        "last_output = output_layer.output"
      ],
      "execution_count": null,
      "outputs": []
    },
    {
      "cell_type": "code",
      "metadata": {
        "id": "MiKBpQBj9Fuc",
        "colab_type": "code",
        "colab": {}
      },
      "source": [
        "x = layers.Flatten()(last_output)\n",
        "x = layers.Dense(1024,activation=\"relu\")(x)\n",
        "x = layers.Dense(1,activation=\"sigmoid\")(x)"
      ],
      "execution_count": null,
      "outputs": []
    },
    {
      "cell_type": "code",
      "metadata": {
        "id": "XSHRiit39rvP",
        "colab_type": "code",
        "colab": {}
      },
      "source": [
        "model1 = tf.keras.Model(pretrained_model.input,x)"
      ],
      "execution_count": null,
      "outputs": []
    },
    {
      "cell_type": "code",
      "metadata": {
        "id": "UBYaeGJ0-Dwa",
        "colab_type": "code",
        "colab": {}
      },
      "source": [
        "#model1.summary()"
      ],
      "execution_count": null,
      "outputs": []
    },
    {
      "cell_type": "code",
      "metadata": {
        "id": "-RiwYH1I-F7i",
        "colab_type": "code",
        "colab": {}
      },
      "source": [
        "train_data = train_datagen.flow_from_directory(train_dir,target_size=(150,150),class_mode=\"binary\",batch_size=32)\n",
        "test_data  = train_datagen.flow_from_directory(test_dir,target_size=(150,150),class_mode=\"binary\",batch_size=32)"
      ],
      "execution_count": null,
      "outputs": []
    },
    {
      "cell_type": "code",
      "metadata": {
        "id": "BmMVt_dx-roq",
        "colab_type": "code",
        "colab": {}
      },
      "source": [
        "model1.compile(optimizer=tf.keras.optimizers.RMSprop(lr=0.0001),loss=tf.keras.losses.binary_crossentropy,metrics=['acc'])"
      ],
      "execution_count": null,
      "outputs": []
    },
    {
      "cell_type": "code",
      "metadata": {
        "id": "clP536iV_VD-",
        "colab_type": "code",
        "colab": {}
      },
      "source": [
        "his1 = model1.fit(train_data,epochs=20,steps_per_epoch=train_data.n//32,validation_data=test_data,validation_steps=test_data.n//32)"
      ],
      "execution_count": null,
      "outputs": []
    },
    {
      "cell_type": "code",
      "metadata": {
        "id": "7fJ6Uw6dLKfx",
        "colab_type": "code",
        "colab": {}
      },
      "source": [
        "f,ax = plt.subplots(1,2,figsize=(14,5))\n",
        "\n",
        "ax[0].plot(his1.history['acc'],label=\"Training\")\n",
        "ax[0].plot(his1.history['val_acc'],label=\"Validation\")\n",
        "ax[0].set_title(\"Accurecy\")\n",
        "ax[0].legend()\n",
        "\n",
        "ax[1].plot(his1.history['loss'],label=\"Training\")\n",
        "ax[1].plot(his1.history['val_loss'],label=\"Validation\")\n",
        "ax[1].set_title(\"Loss\")\n",
        "ax[1].legend()"
      ],
      "execution_count": null,
      "outputs": []
    },
    {
      "cell_type": "code",
      "metadata": {
        "id": "v3YiQ91DeX-V",
        "colab_type": "code",
        "colab": {}
      },
      "source": [
        "a = files.upload()"
      ],
      "execution_count": null,
      "outputs": []
    },
    {
      "cell_type": "code",
      "metadata": {
        "id": "956O7IPSeoDG",
        "colab_type": "code",
        "colab": {}
      },
      "source": [
        "a"
      ],
      "execution_count": null,
      "outputs": []
    },
    {
      "cell_type": "code",
      "metadata": {
        "id": "YrY71LoOe1Jo",
        "colab_type": "code",
        "colab": {}
      },
      "source": [
        "img = cv2.imread(\"/content/cat.1.jpg\")\n",
        "img = cv2.resize(img,(150,150))"
      ],
      "execution_count": null,
      "outputs": []
    },
    {
      "cell_type": "code",
      "metadata": {
        "id": "-wQG_4HGfNg4",
        "colab_type": "code",
        "colab": {}
      },
      "source": [
        "import numpy as np"
      ],
      "execution_count": null,
      "outputs": []
    },
    {
      "cell_type": "code",
      "metadata": {
        "id": "BYbk3CBhfUM5",
        "colab_type": "code",
        "colab": {}
      },
      "source": [
        "(model1.predict(test_data[0][0][:5]) > 0.5) * 1"
      ],
      "execution_count": null,
      "outputs": []
    },
    {
      "cell_type": "code",
      "metadata": {
        "id": "QTCgLAySfd6i",
        "colab_type": "code",
        "colab": {}
      },
      "source": [
        "train_data.class_indices"
      ],
      "execution_count": null,
      "outputs": []
    },
    {
      "cell_type": "code",
      "metadata": {
        "id": "PctlWlWzfuIi",
        "colab_type": "code",
        "colab": {}
      },
      "source": [
        "test_data[0][1][:5]"
      ],
      "execution_count": null,
      "outputs": []
    },
    {
      "cell_type": "code",
      "metadata": {
        "id": "43fC5K1bgFJV",
        "colab_type": "code",
        "colab": {}
      },
      "source": [
        "plt.imshow(test_data[0][0][0])"
      ],
      "execution_count": null,
      "outputs": []
    },
    {
      "cell_type": "code",
      "metadata": {
        "id": "oMrCSPDzgNpJ",
        "colab_type": "code",
        "colab": {}
      },
      "source": [
        "test_data[0][0][0].max()"
      ],
      "execution_count": null,
      "outputs": []
    },
    {
      "cell_type": "code",
      "metadata": {
        "id": "AnVHAdUPgTiN",
        "colab_type": "code",
        "colab": {}
      },
      "source": [
        "model1.save(\"/content/drive/My Drive/CNN/Dog&Cat\")"
      ],
      "execution_count": null,
      "outputs": []
    },
    {
      "cell_type": "code",
      "metadata": {
        "id": "A9fE_U_XhDRL",
        "colab_type": "code",
        "colab": {}
      },
      "source": [
        "os.chdir(\"/content/drive/My Drive/CNN/Dog&Cat\")"
      ],
      "execution_count": null,
      "outputs": []
    },
    {
      "cell_type": "code",
      "metadata": {
        "id": "9gHGHtFhhFSB",
        "colab_type": "code",
        "colab": {}
      },
      "source": [
        "os.listdir()"
      ],
      "execution_count": null,
      "outputs": []
    }
  ]
}