{
  "nbformat": 4,
  "nbformat_minor": 0,
  "metadata": {
    "colab": {
      "name": "tensorflowhub.ipynb",
      "provenance": [],
      "private_outputs": true,
      "collapsed_sections": [],
      "mount_file_id": "1AK6O46MDKGHWx8mkyX86BAr31T6WkSGc",
      "authorship_tag": "ABX9TyMIfTRlxeqquvJhn0khRMw4",
      "include_colab_link": true
    },
    "kernelspec": {
      "name": "python3",
      "display_name": "Python 3"
    },
    "accelerator": "GPU"
  },
  "cells": [
    {
      "cell_type": "markdown",
      "metadata": {
        "id": "view-in-github",
        "colab_type": "text"
      },
      "source": [
        "<a href=\"https://colab.research.google.com/github/ANKITPODDER2000/CNN_TF/blob/master/tensorflowhub.ipynb\" target=\"_parent\"><img src=\"https://colab.research.google.com/assets/colab-badge.svg\" alt=\"Open In Colab\"/></a>"
      ]
    },
    {
      "cell_type": "code",
      "metadata": {
        "id": "_yJfZV-t-FnF",
        "colab_type": "code",
        "colab": {}
      },
      "source": [
        "#!pip install -q -U tf-hub-nightly\n",
        "#!pip install -q tfds-nightly"
      ],
      "execution_count": null,
      "outputs": []
    },
    {
      "cell_type": "code",
      "metadata": {
        "id": "p-pGMrZC-ZR4",
        "colab_type": "code",
        "colab": {}
      },
      "source": [
        "import tensorflow as tf\n",
        "import matplotlib.pyplot as plt\n",
        "%matplotlib inline\n",
        "import tensorflow_hub as hub\n",
        "import cv2"
      ],
      "execution_count": null,
      "outputs": []
    },
    {
      "cell_type": "code",
      "metadata": {
        "id": "t2bB2FP8-zat",
        "colab_type": "code",
        "colab": {}
      },
      "source": [
        "classifier_url =\"https://tfhub.dev/google/tf2-preview/mobilenet_v2/classification/2\" "
      ],
      "execution_count": null,
      "outputs": []
    },
    {
      "cell_type": "code",
      "metadata": {
        "id": "3XySfe_1_NXk",
        "colab_type": "code",
        "colab": {}
      },
      "source": [
        "image_shape = (224,224,3)\n",
        "\n",
        "model1 = tf.keras.models.Sequential([\n",
        "    hub.KerasLayer(classifier_url,input_shape=image_shape)\n",
        "])"
      ],
      "execution_count": null,
      "outputs": []
    },
    {
      "cell_type": "code",
      "metadata": {
        "id": "ecWEyOZT_k1y",
        "colab_type": "code",
        "colab": {}
      },
      "source": [
        "import numpy as np\n",
        "import PIL.Image as image\n",
        "image_url = 'https://storage.googleapis.com/download.tensorflow.org/example_images/grace_hopper.jpg'\n",
        "img = tf.keras.utils.get_file(\"img.jpg\",image_url)\n",
        "img = image.open(img).resize((224,224))\n",
        "img"
      ],
      "execution_count": null,
      "outputs": []
    },
    {
      "cell_type": "code",
      "metadata": {
        "id": "QwIq0_zKAixE",
        "colab_type": "code",
        "colab": {}
      },
      "source": [
        "img = np.array(img)/255.0\n",
        "print(\"Shape of img := \",img.shape)"
      ],
      "execution_count": null,
      "outputs": []
    },
    {
      "cell_type": "code",
      "metadata": {
        "id": "F6DUyXWjBG5z",
        "colab_type": "code",
        "colab": {}
      },
      "source": [
        "result = model1.predict(img[np.newaxis])\n",
        "result.shape"
      ],
      "execution_count": null,
      "outputs": []
    },
    {
      "cell_type": "code",
      "metadata": {
        "id": "DztAnp1MBgym",
        "colab_type": "code",
        "colab": {}
      },
      "source": [
        "result.argmax()"
      ],
      "execution_count": null,
      "outputs": []
    },
    {
      "cell_type": "code",
      "metadata": {
        "id": "V9zPvHyzCFl-",
        "colab_type": "code",
        "colab": {}
      },
      "source": [
        "label_path = \"https://storage.googleapis.com/download.tensorflow.org/data/ImageNetLabels.txt\"\n",
        "label = tf.keras.utils.get_file(\"label.txt\",label_path)\n",
        "label = open(label).read().split(\"\\n\")"
      ],
      "execution_count": null,
      "outputs": []
    },
    {
      "cell_type": "code",
      "metadata": {
        "id": "ZjzGEJxfCjWv",
        "colab_type": "code",
        "colab": {}
      },
      "source": [
        "print(\"Predicted Class : \",label[result.argmax()])"
      ],
      "execution_count": null,
      "outputs": []
    },
    {
      "cell_type": "code",
      "metadata": {
        "id": "UPW5rVlsCngA",
        "colab_type": "code",
        "colab": {}
      },
      "source": [
        "image_url = \"https://4.imimg.com/data4/IE/UJ/MY-21747848/men-s-casual-blazer-500x500.jpg\"\n",
        "img_me = tf.keras.utils.get_file(\"myimg3.jpg\",image_url)\n",
        "\n",
        "img_me = cv2.imread(img_me)\n",
        "img_me = cv2.resize(img_me,(224,224))\n",
        "img_me = img_me / 255.0\n",
        "plt.imshow(img_me)\n",
        "print(\"Shape of image := \",img_me.shape)\n",
        "predict = model1.predict(img_me[np.newaxis])\n",
        "print(\"Predicted Class := \",label[predict.argmax()])\n",
        "plt.title(\"Prediction : \"+label[predict.argmax()])"
      ],
      "execution_count": null,
      "outputs": []
    },
    {
      "cell_type": "code",
      "metadata": {
        "id": "zDlYKN2JDvQl",
        "colab_type": "code",
        "colab": {}
      },
      "source": [
        "import os"
      ],
      "execution_count": null,
      "outputs": []
    },
    {
      "cell_type": "code",
      "metadata": {
        "id": "R5NgZzS1Dwyz",
        "colab_type": "code",
        "colab": {}
      },
      "source": [
        "os.getcwd()"
      ],
      "execution_count": null,
      "outputs": []
    },
    {
      "cell_type": "code",
      "metadata": {
        "id": "tPw2FGHrD7Rk",
        "colab_type": "code",
        "colab": {}
      },
      "source": [
        "data_root = tf.keras.utils.get_file(\n",
        "  'flower_photos','https://storage.googleapis.com/download.tensorflow.org/example_images/flower_photos.tgz',\n",
        "   untar=True)"
      ],
      "execution_count": null,
      "outputs": []
    },
    {
      "cell_type": "code",
      "metadata": {
        "id": "v_oZ6-T_LNay",
        "colab_type": "code",
        "colab": {}
      },
      "source": [
        "train_data = tf.keras.preprocessing.image.ImageDataGenerator(rescale=(1.0 / 255.0))"
      ],
      "execution_count": null,
      "outputs": []
    },
    {
      "cell_type": "code",
      "metadata": {
        "id": "xHcMkDsMLNmt",
        "colab_type": "code",
        "colab": {}
      },
      "source": [
        "iamge_data = train_data.flow_from_directory(data_root,target_size=(224,224),batch_size=32)"
      ],
      "execution_count": null,
      "outputs": []
    },
    {
      "cell_type": "code",
      "metadata": {
        "id": "FrWjv3KzMGYI",
        "colab_type": "code",
        "colab": {}
      },
      "source": [
        "iamge_data.n"
      ],
      "execution_count": null,
      "outputs": []
    },
    {
      "cell_type": "code",
      "metadata": {
        "id": "qtzO9QSXMIza",
        "colab_type": "code",
        "colab": {}
      },
      "source": [
        "iamge_data.class_indices"
      ],
      "execution_count": null,
      "outputs": []
    },
    {
      "cell_type": "code",
      "metadata": {
        "id": "1oachnVwMI6W",
        "colab_type": "code",
        "colab": {}
      },
      "source": [
        "test_image = iamge_data[0][0]\n",
        "test_label = iamge_data[0][1]\n",
        "print(\"test image shape := \",test_image.shape)\n",
        "print(\"test label shape := \",test_label.shape)"
      ],
      "execution_count": null,
      "outputs": []
    },
    {
      "cell_type": "code",
      "metadata": {
        "id": "NmMeUXvfMJFi",
        "colab_type": "code",
        "colab": {}
      },
      "source": [
        "prediction = model1.predict(test_image)"
      ],
      "execution_count": null,
      "outputs": []
    },
    {
      "cell_type": "code",
      "metadata": {
        "id": "v_SwEh_nMI2w",
        "colab_type": "code",
        "colab": {}
      },
      "source": [
        "prediction = np.argmax(prediction, axis=-1)\n",
        "print(\"Sahpe of prediction := \",prediction.shape)\n",
        "lbl = np.array(label)\n",
        "print(lbl[prediction])"
      ],
      "execution_count": null,
      "outputs": []
    },
    {
      "cell_type": "code",
      "metadata": {
        "id": "C_1pauCLOtKk",
        "colab_type": "code",
        "colab": {}
      },
      "source": [
        "plt.imshow(test_image[0])"
      ],
      "execution_count": null,
      "outputs": []
    },
    {
      "cell_type": "code",
      "metadata": {
        "id": "CW72frw5PwHy",
        "colab_type": "code",
        "colab": {}
      },
      "source": [
        "headless_classifier = \"https://tfhub.dev/google/tf2-preview/mobilenet_v2/feature_vector/2\""
      ],
      "execution_count": null,
      "outputs": []
    },
    {
      "cell_type": "code",
      "metadata": {
        "id": "ngJz3Pnie0kW",
        "colab_type": "code",
        "colab": {}
      },
      "source": [
        "classifier_input = hub.KerasLayer(headless_classifier,input_shape=image_shape)"
      ],
      "execution_count": null,
      "outputs": []
    },
    {
      "cell_type": "code",
      "metadata": {
        "id": "FOJ8ds28fskV",
        "colab_type": "code",
        "colab": {}
      },
      "source": [
        "classifier_input.trainable = False"
      ],
      "execution_count": null,
      "outputs": []
    },
    {
      "cell_type": "code",
      "metadata": {
        "id": "GE3mV9fCf33r",
        "colab_type": "code",
        "colab": {}
      },
      "source": [
        "model2 = tf.keras.models.Sequential([\n",
        "    classifier_input,\n",
        "    tf.keras.layers.Dense(5,activation=\"softmax\")\n",
        "])\n",
        "model2.summary()"
      ],
      "execution_count": null,
      "outputs": []
    },
    {
      "cell_type": "code",
      "metadata": {
        "id": "q4fLHZ7If6Bo",
        "colab_type": "code",
        "colab": {}
      },
      "source": [
        "model2.compile(optimizer=\"adam\",loss=tf.keras.losses.categorical_crossentropy,metrics=['acc'])"
      ],
      "execution_count": null,
      "outputs": []
    },
    {
      "cell_type": "code",
      "metadata": {
        "id": "5Jw4ixPxgoKV",
        "colab_type": "code",
        "colab": {}
      },
      "source": [
        "history2 = model2.fit(iamge_data,epochs=10,steps_per_epoch=iamge_data.n//iamge_data.batch_size)"
      ],
      "execution_count": null,
      "outputs": []
    },
    {
      "cell_type": "code",
      "metadata": {
        "id": "rJE-XMOSg82t",
        "colab_type": "code",
        "colab": {}
      },
      "source": [
        "model2.predict_classes(iamge_data[0][0][0:2])"
      ],
      "execution_count": null,
      "outputs": []
    },
    {
      "cell_type": "code",
      "metadata": {
        "id": "n7E0KhNWhpss",
        "colab_type": "code",
        "colab": {}
      },
      "source": [
        "iamge_data[0][1][0:2]"
      ],
      "execution_count": null,
      "outputs": []
    },
    {
      "cell_type": "code",
      "metadata": {
        "id": "iAq9mYUlh2Vq",
        "colab_type": "code",
        "colab": {}
      },
      "source": [
        "import time\n",
        "t = time.time()"
      ],
      "execution_count": null,
      "outputs": []
    },
    {
      "cell_type": "code",
      "metadata": {
        "id": "Bh0t5bdPqTKB",
        "colab_type": "code",
        "colab": {}
      },
      "source": [
        "path = \"/content/drive/My Drive/CNN/fruit\"\n",
        "model2.save(path,save_format='tf')"
      ],
      "execution_count": null,
      "outputs": []
    },
    {
      "cell_type": "code",
      "metadata": {
        "id": "szS39HrVt7rM",
        "colab_type": "code",
        "colab": {}
      },
      "source": [
        "reloaded = tf.keras.models.load_model(path)"
      ],
      "execution_count": null,
      "outputs": []
    },
    {
      "cell_type": "code",
      "metadata": {
        "id": "Q6DOLDNFvGX6",
        "colab_type": "code",
        "colab": {}
      },
      "source": [
        "reloaded.predict_classes(iamge_data[0][0])"
      ],
      "execution_count": null,
      "outputs": []
    }
  ]
}