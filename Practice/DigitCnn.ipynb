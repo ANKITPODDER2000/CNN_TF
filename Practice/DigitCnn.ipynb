{
 "cells": [
  {
   "cell_type": "code",
   "execution_count": 1,
   "metadata": {},
   "outputs": [],
   "source": [
    "import tensorflow as tf"
   ]
  },
  {
   "cell_type": "code",
   "execution_count": 2,
   "metadata": {},
   "outputs": [],
   "source": [
    "from sklearn.datasets import load_digits"
   ]
  },
  {
   "cell_type": "code",
   "execution_count": 3,
   "metadata": {},
   "outputs": [],
   "source": [
    "data = load_digits()"
   ]
  },
  {
   "cell_type": "code",
   "execution_count": 5,
   "metadata": {},
   "outputs": [],
   "source": [
    "img = data.data"
   ]
  },
  {
   "cell_type": "code",
   "execution_count": 6,
   "metadata": {},
   "outputs": [
    {
     "data": {
      "text/plain": [
       "(1797, 64)"
      ]
     },
     "execution_count": 6,
     "metadata": {},
     "output_type": "execute_result"
    }
   ],
   "source": [
    "img.shape"
   ]
  },
  {
   "cell_type": "code",
   "execution_count": 7,
   "metadata": {},
   "outputs": [],
   "source": [
    "label = data.target"
   ]
  },
  {
   "cell_type": "code",
   "execution_count": 8,
   "metadata": {},
   "outputs": [],
   "source": [
    "label_class = data.target_names"
   ]
  },
  {
   "cell_type": "code",
   "execution_count": 9,
   "metadata": {},
   "outputs": [
    {
     "name": "stdout",
     "output_type": "stream",
     "text": [
      "Label calss is :  [0 1 2 3 4 5 6 7 8 9]\n"
     ]
    }
   ],
   "source": [
    "print(\"Label calss is : \",label_class)"
   ]
  },
  {
   "cell_type": "code",
   "execution_count": 10,
   "metadata": {},
   "outputs": [],
   "source": [
    "#visualization"
   ]
  },
  {
   "cell_type": "code",
   "execution_count": 11,
   "metadata": {},
   "outputs": [],
   "source": [
    "import matplotlib.pyplot as plt\n",
    "%matplotlib inline"
   ]
  },
  {
   "cell_type": "code",
   "execution_count": 17,
   "metadata": {},
   "outputs": [],
   "source": [
    "def imshow(index):\n",
    "    plt.imshow(img[index].reshape((8,8)))\n",
    "    plt.title(\"Digit is : %d\"%label[index])\n",
    "    plt.xticks([])\n",
    "    plt.yticks([])"
   ]
  },
  {
   "cell_type": "code",
   "execution_count": 18,
   "metadata": {},
   "outputs": [
    {
     "data": {
      "image/png": "[encoded data removed]",
      "text/plain": [
       "<Figure size 432x288 with 1 Axes>"
      ]
     },
     "metadata": {},
     "output_type": "display_data"
    }
   ],
   "source": [
    "imshow(500)"
   ]
  },
  {
   "cell_type": "code",
   "execution_count": 19,
   "metadata": {
    "scrolled": true
   },
   "outputs": [
    {
     "data": {
      "image/png": "[encoded data removed]",
      "text/plain": [
       "<Figure size 432x288 with 1 Axes>"
      ]
     },
     "metadata": {},
     "output_type": "display_data"
    }
   ],
   "source": [
    "imshow(1500)"
   ]
  },
  {
   "cell_type": "code",
   "execution_count": 20,
   "metadata": {
    "scrolled": true
   },
   "outputs": [
    {
     "data": {
      "image/png": "[encoded data removed]",
      "text/plain": [
       "<Figure size 432x288 with 1 Axes>"
      ]
     },
     "metadata": {},
     "output_type": "display_data"
    }
   ],
   "source": [
    "imshow(1796)"
   ]
  },
  {
   "cell_type": "code",
   "execution_count": 21,
   "metadata": {},
   "outputs": [],
   "source": [
    "image = img.reshape((img.shape[0],8,8,1))"
   ]
  },
  {
   "cell_type": "code",
   "execution_count": 22,
   "metadata": {},
   "outputs": [
    {
     "data": {
      "text/plain": [
       "(1797, 8, 8, 1)"
      ]
     },
     "execution_count": 22,
     "metadata": {},
     "output_type": "execute_result"
    }
   ],
   "source": [
    "image.shape"
   ]
  },
  {
   "cell_type": "code",
   "execution_count": 24,
   "metadata": {},
   "outputs": [],
   "source": [
    "label = label.reshape(label.shape[0],1)"
   ]
  },
  {
   "cell_type": "code",
   "execution_count": 25,
   "metadata": {},
   "outputs": [
    {
     "data": {
      "text/plain": [
       "(1797, 1)"
      ]
     },
     "execution_count": 25,
     "metadata": {},
     "output_type": "execute_result"
    }
   ],
   "source": [
    "label.shape"
   ]
  },
  {
   "cell_type": "code",
   "execution_count": 26,
   "metadata": {},
   "outputs": [],
   "source": [
    "from sklearn.model_selection import train_test_split"
   ]
  },
  {
   "cell_type": "code",
   "execution_count": 28,
   "metadata": {},
   "outputs": [],
   "source": [
    "X_train, X_test, y_train, y_test = train_test_split(image, label, test_size=0.25, random_state=101)"
   ]
  },
  {
   "cell_type": "code",
   "execution_count": 29,
   "metadata": {},
   "outputs": [
    {
     "data": {
      "text/plain": [
       "(1347, 8, 8, 1)"
      ]
     },
     "execution_count": 29,
     "metadata": {},
     "output_type": "execute_result"
    }
   ],
   "source": [
    "X_train.shape"
   ]
  },
  {
   "cell_type": "code",
   "execution_count": 71,
   "metadata": {},
   "outputs": [],
   "source": [
    "model1 = tf.keras.models.Sequential([\n",
    "    tf.keras.layers.Conv2D(16,(3,3),activation='relu',input_shape=(8,8,1)),\n",
    "    tf.keras.layers.MaxPool2D((2,2),),\n",
    "    \n",
    "    tf.keras.layers.Flatten(),\n",
    "    tf.keras.layers.Dense(256,activation='relu'),\n",
    "    tf.keras.layers.Dense(10,activation='softmax')\n",
    "])"
   ]
  },
  {
   "cell_type": "code",
   "execution_count": 72,
   "metadata": {},
   "outputs": [],
   "source": [
    "#model1.summary()"
   ]
  },
  {
   "cell_type": "code",
   "execution_count": 73,
   "metadata": {},
   "outputs": [],
   "source": [
    "model1.compile(loss=tf.keras.losses.sparse_categorical_crossentropy,metrics=['acc'])"
   ]
  },
  {
   "cell_type": "code",
   "execution_count": 74,
   "metadata": {},
   "outputs": [
    {
     "name": "stdout",
     "output_type": "stream",
     "text": [
      "Train on 1347 samples\n",
      "Epoch 1/20\n",
      "1347/1347 [==============================] - 1s 863us/sample - loss: 0.7887 - acc: 0.7535\n",
      "Epoch 2/20\n",
      "1347/1347 [==============================] - 1s 441us/sample - loss: 0.1813 - acc: 0.9414\n",
      "Epoch 3/20\n",
      "1347/1347 [==============================] - 1s 416us/sample - loss: 0.1130 - acc: 0.9651\n",
      "Epoch 4/20\n",
      "1347/1347 [==============================] - 1s 399us/sample - loss: 0.0803 - acc: 0.9718\n",
      "Epoch 5/20\n",
      "1347/1347 [==============================] - 1s 428us/sample - loss: 0.0625 - acc: 0.9822\n",
      "Epoch 6/20\n",
      "1347/1347 [==============================] - 1s 411us/sample - loss: 0.0339 - acc: 0.9889\n",
      "Epoch 7/20\n",
      "1347/1347 [==============================] - 1s 422us/sample - loss: 0.0265 - acc: 0.9918\n",
      "Epoch 8/20\n",
      "1347/1347 [==============================] - 1s 413us/sample - loss: 0.0231 - acc: 0.9918\n",
      "Epoch 9/20\n",
      "1347/1347 [==============================] - 1s 409us/sample - loss: 0.0189 - acc: 0.9933\n",
      "Epoch 10/20\n",
      "1347/1347 [==============================] - 1s 457us/sample - loss: 0.0103 - acc: 0.9948\n",
      "Epoch 11/20\n",
      "1347/1347 [==============================] - 1s 429us/sample - loss: 0.0126 - acc: 0.9970\n",
      "Epoch 12/20\n",
      "1347/1347 [==============================] - 1s 443us/sample - loss: 0.0172 - acc: 0.9941\n",
      "Epoch 13/20\n",
      "1347/1347 [==============================] - 1s 433us/sample - loss: 0.0067 - acc: 0.9985\n",
      "Epoch 14/20\n",
      "1347/1347 [==============================] - 1s 423us/sample - loss: 0.0069 - acc: 0.9948\n",
      "Epoch 15/20\n",
      "1347/1347 [==============================] - 1s 537us/sample - loss: 0.0055 - acc: 0.9978\n",
      "Epoch 16/20\n",
      "1347/1347 [==============================] - 1s 589us/sample - loss: 0.0086 - acc: 0.9978\n",
      "Epoch 17/20\n",
      "1347/1347 [==============================] - 1s 461us/sample - loss: 0.0028 - acc: 0.9985\n",
      "Epoch 18/20\n",
      "1347/1347 [==============================] - 1s 494us/sample - loss: 9.5552e-04 - acc: 1.0000\n",
      "Epoch 19/20\n",
      "1347/1347 [==============================] - 1s 470us/sample - loss: 0.0017 - acc: 1.0000\n",
      "Epoch 20/20\n",
      "1347/1347 [==============================] - 1s 424us/sample - loss: 0.0016 - acc: 0.9993\n"
     ]
    },
    {
     "data": {
      "text/plain": [
       "<tensorflow.python.keras.callbacks.History at 0x29112d8d940>"
      ]
     },
     "execution_count": 74,
     "metadata": {},
     "output_type": "execute_result"
    }
   ],
   "source": [
    "model1.fit(X_train,y_train,batch_size=10,epochs=20,)"
   ]
  },
  {
   "cell_type": "code",
   "execution_count": 75,
   "metadata": {},
   "outputs": [],
   "source": [
    "from tensorflow.keras.preprocessing.image import ImageDataGenerator"
   ]
  },
  {
   "cell_type": "code",
   "execution_count": 76,
   "metadata": {},
   "outputs": [],
   "source": [
    "train_datagen = ImageDataGenerator(rescale=(1.0 / 255))\n",
    "test_datagen  = ImageDataGenerator(rescale=(1.0 / 255))"
   ]
  },
  {
   "cell_type": "code",
   "execution_count": 77,
   "metadata": {},
   "outputs": [],
   "source": [
    "train = train_datagen.flow(X_train,y_train,batch_size=10)\n",
    "test  = test_datagen.flow(X_test,y_test,batch_size=10)"
   ]
  },
  {
   "cell_type": "code",
   "execution_count": 80,
   "metadata": {},
   "outputs": [],
   "source": [
    "model2 = tf.keras.models.Sequential([\n",
    "    tf.keras.layers.Conv2D(16,(3,3),activation='relu',input_shape=(8,8,1)),\n",
    "    tf.keras.layers.MaxPool2D((2,2),),\n",
    "    \n",
    "    tf.keras.layers.Flatten(),\n",
    "    tf.keras.layers.Dense(256,activation='relu'),\n",
    "    tf.keras.layers.Dense(10,activation='softmax')\n",
    "])\n",
    "\n",
    "model2.compile(loss=tf.keras.losses.sparse_categorical_crossentropy,metrics=['acc'])"
   ]
  },
  {
   "cell_type": "code",
   "execution_count": 82,
   "metadata": {},
   "outputs": [
    {
     "name": "stdout",
     "output_type": "stream",
     "text": [
      "WARNING:tensorflow:sample_weight modes were coerced from\n",
      "  ...\n",
      "    to  \n",
      "  ['...']\n",
      "WARNING:tensorflow:sample_weight modes were coerced from\n",
      "  ...\n",
      "    to  \n",
      "  ['...']\n",
      "Train for 135 steps, validate for 45 steps\n",
      "Epoch 1/10\n",
      "135/135 [==============================] - 1s 5ms/step - loss: 0.4043 - acc: 0.8990 - val_loss: 0.3851 - val_acc: 0.9111\n",
      "Epoch 2/10\n",
      "135/135 [==============================] - 1s 6ms/step - loss: 0.3389 - acc: 0.9072 - val_loss: 0.3430 - val_acc: 0.9178\n",
      "Epoch 3/10\n",
      "135/135 [==============================] - 1s 6ms/step - loss: 0.2895 - acc: 0.9213 - val_loss: 0.3053 - val_acc: 0.9289\n",
      "Epoch 4/10\n",
      "135/135 [==============================] - 1s 6ms/step - loss: 0.2505 - acc: 0.9317 - val_loss: 0.2628 - val_acc: 0.9467\n",
      "Epoch 5/10\n",
      "135/135 [==============================] - 1s 6ms/step - loss: 0.2192 - acc: 0.9384 - val_loss: 0.2516 - val_acc: 0.9289\n",
      "Epoch 6/10\n",
      "135/135 [==============================] - 1s 6ms/step - loss: 0.1985 - acc: 0.9443 - val_loss: 0.2484 - val_acc: 0.9356\n",
      "Epoch 7/10\n",
      "135/135 [==============================] - 1s 6ms/step - loss: 0.1826 - acc: 0.9436 - val_loss: 0.2183 - val_acc: 0.9556\n",
      "Epoch 8/10\n",
      "135/135 [==============================] - 1s 6ms/step - loss: 0.1685 - acc: 0.9488 - val_loss: 0.2103 - val_acc: 0.9578\n",
      "Epoch 9/10\n",
      "135/135 [==============================] - 1s 6ms/step - loss: 0.1521 - acc: 0.9569 - val_loss: 0.1883 - val_acc: 0.9511\n",
      "Epoch 10/10\n",
      "135/135 [==============================] - 1s 6ms/step - loss: 0.1436 - acc: 0.9510 - val_loss: 0.1800 - val_acc: 0.9467\n"
     ]
    }
   ],
   "source": [
    "history = model2.fit_generator(train,epochs=10,validation_data=test)"
   ]
  },
  {
   "cell_type": "code",
   "execution_count": 91,
   "metadata": {},
   "outputs": [],
   "source": [
    "def graph(history):\n",
    "    f,ax = plt.subplots(1,2,figsize=(16,5))\n",
    "    ax[0].plot(list(range(10)),history.history['acc'],marker='o',label=\"Train\")\n",
    "    ax[0].plot(list(range(10)),history.history['val_acc'],marker='o',label=\"Test\")\n",
    "    ax[0].set_title(\"Accurecy\")\n",
    "    ax[0].legend()\n",
    "    \n",
    "    ax[1].plot(list(range(10)),history.history['loss'],marker='o',label=\"Train\")\n",
    "    ax[1].plot(list(range(10)),history.history['val_loss'],marker='o',label=\"Test\")\n",
    "    ax[1].set_title(\"loss\")\n",
    "    ax[1].legend()"
   ]
  },
  {
   "cell_type": "code",
   "execution_count": 92,
   "metadata": {},
   "outputs": [
    {
     "data": {
      "image/png": "[encoded data removed]",
      "text/plain": [
       "<Figure size 1152x360 with 2 Axes>"
      ]
     },
     "metadata": {
      "needs_background": "light"
     },
     "output_type": "display_data"
    }
   ],
   "source": [
    "graph(history)"
   ]
  },
  {
   "cell_type": "code",
   "execution_count": 93,
   "metadata": {},
   "outputs": [
    {
     "name": "stdout",
     "output_type": "stream",
     "text": [
      "WARNING:tensorflow:sample_weight modes were coerced from\n",
      "  ...\n",
      "    to  \n",
      "  ['...']\n",
      "WARNING:tensorflow:sample_weight modes were coerced from\n",
      "  ...\n",
      "    to  \n",
      "  ['...']\n",
      "Train for 135 steps, validate for 45 steps\n",
      "Epoch 1/10\n",
      "135/135 [==============================] - 2s 13ms/step - loss: 2.1447 - acc: 0.3363 - val_loss: 1.8490 - val_acc: 0.5044\n",
      "Epoch 2/10\n",
      "135/135 [==============================] - 1s 6ms/step - loss: 1.4204 - acc: 0.6244 - val_loss: 1.0833 - val_acc: 0.7556\n",
      "Epoch 3/10\n",
      "135/135 [==============================] - 1s 7ms/step - loss: 0.8747 - acc: 0.7654 - val_loss: 0.7591 - val_acc: 0.7733\n",
      "Epoch 4/10\n",
      "135/135 [==============================] - 1s 6ms/step - loss: 0.6488 - acc: 0.8144 - val_loss: 0.5827 - val_acc: 0.8289\n",
      "Epoch 5/10\n",
      "135/135 [==============================] - 1s 7ms/step - loss: 0.5295 - acc: 0.8441 - val_loss: 0.5890 - val_acc: 0.8000\n",
      "Epoch 6/10\n",
      "135/135 [==============================] - 1s 6ms/step - loss: 0.4367 - acc: 0.8738 - val_loss: 0.4541 - val_acc: 0.8667\n",
      "Epoch 7/10\n",
      "135/135 [==============================] - 1s 6ms/step - loss: 0.3648 - acc: 0.8924 - val_loss: 0.3845 - val_acc: 0.8778\n",
      "Epoch 8/10\n",
      "135/135 [==============================] - 1s 9ms/step - loss: 0.3171 - acc: 0.9109 - val_loss: 0.3112 - val_acc: 0.9267\n",
      "Epoch 9/10\n",
      "135/135 [==============================] - 1s 9ms/step - loss: 0.2790 - acc: 0.9191 - val_loss: 0.3075 - val_acc: 0.9022\n",
      "Epoch 10/10\n",
      "135/135 [==============================] - 1s 8ms/step - loss: 0.2392 - acc: 0.9324 - val_loss: 0.3365 - val_acc: 0.9156\n"
     ]
    }
   ],
   "source": [
    "model3 = tf.keras.models.Sequential([\n",
    "    tf.keras.layers.Conv2D(16,(3,3),activation='relu',input_shape=(8,8,1)),\n",
    "    tf.keras.layers.MaxPool2D((2,2),),\n",
    "    \n",
    "    tf.keras.layers.Flatten(),\n",
    "    tf.keras.layers.Dense(128,activation='relu'),\n",
    "    tf.keras.layers.Dense(128,activation='relu'),\n",
    "    tf.keras.layers.Dense(10,activation='softmax')\n",
    "])\n",
    "\n",
    "model3.compile(loss=tf.keras.losses.sparse_categorical_crossentropy,metrics=['acc'])\n",
    "\n",
    "history = model3.fit_generator(train,epochs=10,validation_data=test)"
   ]
  },
  {
   "cell_type": "code",
   "execution_count": 96,
   "metadata": {},
   "outputs": [
    {
     "data": {
      "image/png": "[encoded data removed]",
      "text/plain": [
       "<Figure size 1152x360 with 2 Axes>"
      ]
     },
     "metadata": {
      "needs_background": "light"
     },
     "output_type": "display_data"
    }
   ],
   "source": [
    "graph(history)"
   ]
  },
  {
   "cell_type": "code",
   "execution_count": null,
   "metadata": {},
   "outputs": [],
   "source": []
  },
  {
   "cell_type": "code",
   "execution_count": 158,
   "metadata": {},
   "outputs": [],
   "source": [
    "def predict(X_test,y,i):\n",
    "    plt.imshow(X_test[i].reshape((8,8)))\n",
    "    plt.title(\"Digit is : %d    ||    Org is : %d\"%(model3.predict_classes(X_test[i:i+1]) , y[i]))\n",
    "    plt.xticks([])\n",
    "    plt.yticks([])"
   ]
  },
  {
   "cell_type": "code",
   "execution_count": 159,
   "metadata": {},
   "outputs": [
    {
     "data": {
      "image/png": "[encoded data removed]",
      "text/plain": [
       "<Figure size 432x288 with 1 Axes>"
      ]
     },
     "metadata": {},
     "output_type": "display_data"
    }
   ],
   "source": [
    "predict(X_train,y_train,509)"
   ]
  },
  {
   "cell_type": "code",
   "execution_count": 160,
   "metadata": {},
   "outputs": [
    {
     "data": {
      "image/png": "[encoded data removed]",
      "text/plain": [
       "<Figure size 432x288 with 1 Axes>"
      ]
     },
     "metadata": {},
     "output_type": "display_data"
    }
   ],
   "source": [
    "predict(X_test,y_test,210)"
   ]
  },
  {
   "cell_type": "code",
   "execution_count": null,
   "metadata": {},
   "outputs": [],
   "source": []
  }
 ],
 "metadata": {
  "kernelspec": {
   "display_name": "Python 3",
   "language": "python",
   "name": "python3"
  },
  "language_info": {
   "codemirror_mode": {
    "name": "ipython",
    "version": 3
   },
   "file_extension": ".py",
   "mimetype": "text/x-python",
   "name": "python",
   "nbconvert_exporter": "python",
   "pygments_lexer": "ipython3",
   "version": "3.7.3"
  }
 },
 "nbformat": 4,
 "nbformat_minor": 2
}
