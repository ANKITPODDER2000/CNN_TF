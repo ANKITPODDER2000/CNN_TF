{
  "nbformat": 4,
  "nbformat_minor": 0,
  "metadata": {
    "colab": {
      "name": "traffic.ipynb",
      "provenance": [],
      "private_outputs": true,
      "collapsed_sections": [],
      "mount_file_id": "1sk3cD-IMYg6LIZyJmrGyW8wKIHHJePQo",
      "authorship_tag": "ABX9TyOGhaHpaCsPpc9FOP8OeFgY",
      "include_colab_link": true
    },
    "kernelspec": {
      "name": "python3",
      "display_name": "Python 3"
    },
    "accelerator": "GPU"
  },
  "cells": [
    {
      "cell_type": "markdown",
      "metadata": {
        "id": "view-in-github",
        "colab_type": "text"
      },
      "source": [
        "<a href=\"https://colab.research.google.com/github/ANKITPODDER2000/CNN_TF/blob/master/traffic.ipynb\" target=\"_parent\"><img src=\"https://colab.research.google.com/assets/colab-badge.svg\" alt=\"Open In Colab\"/></a>"
      ]
    },
    {
      "cell_type": "code",
      "metadata": {
        "id": "uokrAlEWEu0x",
        "colab_type": "code",
        "colab": {}
      },
      "source": [
        "import os\n",
        "import tensorflow as tf\n",
        "import cv2\n",
        "import matplotlib.pyplot as plt\n",
        "import random\n",
        "%matplotlib inline"
      ],
      "execution_count": null,
      "outputs": []
    },
    {
      "cell_type": "code",
      "metadata": {
        "id": "_4j-_B7rGixG",
        "colab_type": "code",
        "colab": {}
      },
      "source": [
        "os.chdir(\"/content/drive/My Drive/CNN/traffic\")"
      ],
      "execution_count": null,
      "outputs": []
    },
    {
      "cell_type": "code",
      "metadata": {
        "id": "YDkefzOiGwoL",
        "colab_type": "code",
        "colab": {}
      },
      "source": [
        "os.listdir()"
      ],
      "execution_count": null,
      "outputs": []
    },
    {
      "cell_type": "code",
      "metadata": {
        "id": "SDt0UMKVGzL3",
        "colab_type": "code",
        "colab": {}
      },
      "source": [
        "import zipfile"
      ],
      "execution_count": null,
      "outputs": []
    },
    {
      "cell_type": "code",
      "metadata": {
        "id": "Tbg6aaitG2CY",
        "colab_type": "code",
        "colab": {}
      },
      "source": [
        "fl = zipfile.ZipFile(\"./data.zip\",\"r\")"
      ],
      "execution_count": null,
      "outputs": []
    },
    {
      "cell_type": "code",
      "metadata": {
        "id": "qhXUyrvkHBIK",
        "colab_type": "code",
        "colab": {}
      },
      "source": [
        "fl.extractall(\"./data\")"
      ],
      "execution_count": null,
      "outputs": []
    },
    {
      "cell_type": "code",
      "metadata": {
        "id": "Yj66Paf6HFHV",
        "colab_type": "code",
        "colab": {}
      },
      "source": [
        "train_path = \"/content/drive/My Drive/CNN/traffic/data/train/\"\n",
        "test_path  = \"/content/drive/My Drive/CNN/traffic/data/test/\""
      ],
      "execution_count": null,
      "outputs": []
    },
    {
      "cell_type": "code",
      "metadata": {
        "id": "bc-VodYJKja4",
        "colab_type": "code",
        "colab": {}
      },
      "source": [
        "for i in os.listdir(train_path):\n",
        "  print(\"%s folder _ file := %d\"%(i,len(os.listdir(train_path + i))))"
      ],
      "execution_count": null,
      "outputs": []
    },
    {
      "cell_type": "code",
      "metadata": {
        "id": "ze4p5q2iK66D",
        "colab_type": "code",
        "colab": {}
      },
      "source": [
        "print(\"Folder in train dir := \",len(os.listdir(train_path)))\n",
        "print(\"Folder in test dir := \",len(os.listdir(test_path)))"
      ],
      "execution_count": null,
      "outputs": []
    },
    {
      "cell_type": "code",
      "metadata": {
        "id": "ClzJ94XuLKXr",
        "colab_type": "code",
        "colab": {}
      },
      "source": [
        "train_datagen = tf.keras.preprocessing.image.ImageDataGenerator(rescale=(1.0/255.0),width_shift_range=0.2,height_shift_range=0.2,zoom_range=0.2)"
      ],
      "execution_count": null,
      "outputs": []
    },
    {
      "cell_type": "code",
      "metadata": {
        "id": "LqEX8WTaNIVH",
        "colab_type": "code",
        "colab": {}
      },
      "source": [
        "train_data = train_datagen.flow_from_directory(train_path,batch_size=32,target_size=(160,160),class_mode=\"categorical\")"
      ],
      "execution_count": null,
      "outputs": []
    },
    {
      "cell_type": "code",
      "metadata": {
        "id": "JbA3HaoaNlr2",
        "colab_type": "code",
        "colab": {}
      },
      "source": [
        "_,ax = plt.subplots(1,5,figsize=(20,5))\n",
        "for i in range(5):\n",
        "  ax[i].imshow(train_data[0][0][0])\n",
        "  "
      ],
      "execution_count": null,
      "outputs": []
    },
    {
      "cell_type": "code",
      "metadata": {
        "id": "KROPRY4ANvfo",
        "colab_type": "code",
        "colab": {}
      },
      "source": [
        "_,ax = plt.subplots(1,5,figsize=(20,5))\n",
        "for i in range(5):\n",
        "  ax[i].imshow(train_data[0][0][31])\n",
        "  ax[i].set_title(train_data[0][1][31].argmax())"
      ],
      "execution_count": null,
      "outputs": []
    },
    {
      "cell_type": "code",
      "metadata": {
        "id": "mhvqcOJUOFxy",
        "colab_type": "code",
        "colab": {}
      },
      "source": [
        "_,ax = plt.subplots(1,5,figsize=(20,5))\n",
        "for i in range(5):\n",
        "  a = random.randint(0,32)\n",
        "  ax[i].imshow(train_data[0][0][a])\n",
        "  ax[i].set_title(train_data[0][1][a].argmax())"
      ],
      "execution_count": null,
      "outputs": []
    },
    {
      "cell_type": "code",
      "metadata": {
        "id": "o2L7IL1qOPMz",
        "colab_type": "code",
        "colab": {}
      },
      "source": [
        "model1 = tf.keras.models.Sequential([\n",
        "    tf.keras.layers.Conv2D(16,(3,3),activation=\"relu\",input_shape=(160,160,3)),\n",
        "    tf.keras.layers.MaxPool2D((2,2)),\n",
        "\n",
        "    tf.keras.layers.Conv2D(32,(3,3),activation=\"relu\"),\n",
        "    tf.keras.layers.MaxPool2D((2,2)),\n",
        "\n",
        "    tf.keras.layers.Conv2D(64,(3,3),activation=\"relu\"),\n",
        "    tf.keras.layers.MaxPool2D((2,2)),\n",
        "\n",
        "    tf.keras.layers.Flatten(),\n",
        "    tf.keras.layers.Dense(128,activation=\"relu\"),\n",
        "    tf.keras.layers.Dense(43,activation=\"softmax\")\n",
        "])"
      ],
      "execution_count": null,
      "outputs": []
    },
    {
      "cell_type": "code",
      "metadata": {
        "id": "9ALQaMDhOVBO",
        "colab_type": "code",
        "colab": {}
      },
      "source": [
        "model1.summary()"
      ],
      "execution_count": null,
      "outputs": []
    },
    {
      "cell_type": "code",
      "metadata": {
        "id": "n1PbczvZOYAl",
        "colab_type": "code",
        "colab": {}
      },
      "source": [
        "model1.compile(optimizer=tf.keras.optimizers.RMSprop(),loss=tf.keras.losses.categorical_crossentropy,metrics=['acc'])"
      ],
      "execution_count": null,
      "outputs": []
    },
    {
      "cell_type": "code",
      "metadata": {
        "id": "KaI-0B8xPx92",
        "colab_type": "code",
        "colab": {}
      },
      "source": [
        "his1 = model1.fit(train_data,epochs=10,steps_per_epoch=train_data.n//32)"
      ],
      "execution_count": null,
      "outputs": []
    },
    {
      "cell_type": "code",
      "metadata": {
        "id": "PcC6dEOTP7NX",
        "colab_type": "code",
        "colab": {}
      },
      "source": [
        "model1.predict_classes(train_data[0][0][0:5])"
      ],
      "execution_count": null,
      "outputs": []
    },
    {
      "cell_type": "code",
      "metadata": {
        "id": "pd2bMJBUigqd",
        "colab_type": "code",
        "colab": {}
      },
      "source": [
        "def prediction(ind,s,e):\n",
        "  pre = model1.predict_classes(train_data[ind][0][s:e+1])\n",
        "  print(\"Predicted value := \",pre)\n",
        "  print(\"Original value  :=   \",end=\"\")\n",
        "  for i in train_data[ind][1][s:e+1]:\n",
        "    print(\"%2d\"%i.argmax(),end=\" \")"
      ],
      "execution_count": null,
      "outputs": []
    },
    {
      "cell_type": "code",
      "metadata": {
        "id": "mwSvh9lGinZa",
        "colab_type": "code",
        "colab": {}
      },
      "source": [
        "prediction(0,0,5)"
      ],
      "execution_count": null,
      "outputs": []
    },
    {
      "cell_type": "code",
      "metadata": {
        "id": "zNiibhF8jcjC",
        "colab_type": "code",
        "colab": {}
      },
      "source": [
        "prediction(5,0,15)"
      ],
      "execution_count": null,
      "outputs": []
    },
    {
      "cell_type": "code",
      "metadata": {
        "id": "0dI7dXMJj4se",
        "colab_type": "code",
        "colab": {}
      },
      "source": [
        "prediction(10,0,20)"
      ],
      "execution_count": null,
      "outputs": []
    },
    {
      "cell_type": "code",
      "metadata": {
        "id": "3nyW2HmIktbG",
        "colab_type": "code",
        "colab": {}
      },
      "source": [
        "plt.plot(his1.history['acc'])\n",
        "plt.plot(his1.history['loss'])"
      ],
      "execution_count": null,
      "outputs": []
    },
    {
      "cell_type": "code",
      "metadata": {
        "id": "DBMJNoIinRK6",
        "colab_type": "code",
        "colab": {}
      },
      "source": [
        "model2 = tf.keras.models.Sequential([\n",
        "    tf.keras.layers.Conv2D(16,(3,3),activation=\"relu\",input_shape=(160,160,3)),\n",
        "    tf.keras.layers.MaxPool2D((2,2)),\n",
        "\n",
        "    tf.keras.layers.Conv2D(32,(3,3),activation=\"relu\"),\n",
        "    tf.keras.layers.MaxPool2D((2,2)),\n",
        "\n",
        "    tf.keras.layers.Conv2D(64,(3,3),activation=\"relu\"),\n",
        "    tf.keras.layers.MaxPool2D((2,2)),\n",
        "\n",
        "    tf.keras.layers.Conv2D(64,(3,3),activation=\"relu\"),\n",
        "    tf.keras.layers.MaxPool2D((2,2)),\n",
        "\n",
        "    tf.keras.layers.Flatten(),\n",
        "    tf.keras.layers.Dense(128,activation=\"relu\"),\n",
        "    tf.keras.layers.Dense(128,activation=\"relu\"),\n",
        "    tf.keras.layers.Dense(43,activation=\"softmax\")\n",
        "])\n",
        "\n",
        "model2.summary()\n",
        "\n",
        "model2.compile(optimizer=tf.keras.optimizers.RMSprop(),loss=tf.keras.losses.categorical_crossentropy,metrics=['acc'])\n",
        "\n",
        "his2 = model2.fit(train_data,epochs=20,steps_per_epoch=train_data.n//32)"
      ],
      "execution_count": null,
      "outputs": []
    },
    {
      "cell_type": "code",
      "metadata": {
        "id": "PwRwYG61oClq",
        "colab_type": "code",
        "colab": {}
      },
      "source": [
        "_,ax = plt.subplots(1,2,figsize=(12,4))\n",
        "ax[0].plot(his2.history['acc'],'r')\n",
        "ax[1].plot(his2.history['loss'])"
      ],
      "execution_count": null,
      "outputs": []
    }
  ]
}